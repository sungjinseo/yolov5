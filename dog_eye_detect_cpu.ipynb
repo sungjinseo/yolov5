{
 "cells": [
  {
   "cell_type": "code",
   "execution_count": 15,
   "id": "386916db",
   "metadata": {},
   "outputs": [],
   "source": [
    "!git config --global --add safe.directory /home/jupyter/yolo/yolov5"
   ]
  },
  {
   "cell_type": "code",
   "execution_count": 2,
   "id": "c8c1f93d-befe-4a7e-badb-258d2e056e70",
   "metadata": {},
   "outputs": [],
   "source": [
    "!git config --global --add safe.directory /home/jupyter/yolo/yolov5"
   ]
  },
  {
   "cell_type": "code",
   "execution_count": 1,
   "id": "e66c8ee0",
   "metadata": {},
   "outputs": [
    {
     "name": "stdout",
     "output_type": "stream",
     "text": [
      "/home/jupyter/yolo/yolov5\n",
      "HEAD is now at 064365d Update parse_opt() in export.py to work as in train.py (#10789)\n"
     ]
    }
   ],
   "source": [
    "%cd yolov5\n",
    "!git reset --hard 064365d8683fd002e9ad789c1e91fa3d021b44f0"
   ]
  },
  {
   "cell_type": "code",
   "execution_count": 4,
   "id": "b0241d48-4f1f-488b-96d9-8e11b1031a51",
   "metadata": {},
   "outputs": [
    {
     "name": "stdout",
     "output_type": "stream",
     "text": [
      "\u001b[33mWARNING: Running pip as the 'root' user can result in broken permissions and conflicting behaviour with the system package manager. It is recommended to use a virtual environment instead: https://pip.pypa.io/warnings/venv\u001b[0m\u001b[33m\n",
      "\u001b[0m"
     ]
    }
   ],
   "source": [
    "!pip install -qr requirements.txt  # install dependencies (ignore errors)"
   ]
  },
  {
   "cell_type": "code",
   "execution_count": 2,
   "id": "5ec52e0f",
   "metadata": {},
   "outputs": [
    {
     "name": "stdout",
     "output_type": "stream",
     "text": [
      "Setup complete. Using torch 2.0.1+cu117 CPU\n"
     ]
    }
   ],
   "source": [
    "import torch\n",
    "import yaml\n",
    "\n",
    "from IPython.display import Image, clear_output  # to display images\n",
    "from utils.downloads import attempt_download  # to download models/datasets\n",
    "\n",
    "# clear_output()\n",
    "print('Setup complete. Using torch %s %s' % (torch.__version__, torch.cuda.get_device_properties(0) if torch.cuda.is_available() else 'CPU'))"
   ]
  },
  {
   "cell_type": "code",
   "execution_count": 3,
   "id": "01f6a6c1",
   "metadata": {},
   "outputs": [],
   "source": [
    "# 사용할 데이터셋 경로 및 데이터셋의 yaml 파일 경로 지정\n",
    "data_dir = '/home/jupyter/yolo/dog_eye'\n",
    "data_yaml = '/home/jupyter/yolo/dog_eye/data.yaml'"
   ]
  },
  {
   "cell_type": "code",
   "execution_count": 4,
   "id": "3bdf5bff",
   "metadata": {},
   "outputs": [
    {
     "data": {
      "text/plain": [
       "{'names': ['eye'],\n",
       " 'nc': 1,\n",
       " 'train': '/home/jupyter/yolo/dog_eye/train/images',\n",
       " 'val': '/home/jupyter/yolo/dog_eye/test/images'}"
      ]
     },
     "metadata": {},
     "output_type": "display_data"
    }
   ],
   "source": [
    "# 데이터셋 yaml 파일 확인 \n",
    "with open(data_yaml) as f:\n",
    "    film = yaml.load(f, Loader=yaml.FullLoader)\n",
    "    display(film)"
   ]
  },
  {
   "cell_type": "code",
   "execution_count": 5,
   "id": "ae8057d6",
   "metadata": {},
   "outputs": [
    {
     "name": "stdout",
     "output_type": "stream",
     "text": [
      "변경된 yaml 파일 :\n"
     ]
    },
    {
     "data": {
      "text/plain": [
       "{'names': ['eye'],\n",
       " 'nc': 1,\n",
       " 'train': '/home/jupyter/yolo/dog_eye/train/images',\n",
       " 'val': '/home/jupyter/yolo/dog_eye/test/images'}"
      ]
     },
     "metadata": {},
     "output_type": "display_data"
    }
   ],
   "source": [
    "\n",
    "# yaml 파일의 train, val 데이터가 있는 경로 수정 (기존 경로 -> 구글 드라이브에 저장된 경로로)\n",
    "film['train'] = '/home/jupyter/yolo/dog_eye/train/images'\n",
    "film['val'] = '/home/jupyter/yolo/dog_eye/test/images'\n",
    "\n",
    "with open(data_yaml, 'w') as f:\n",
    "    yaml.dump(film, f)\n",
    "\n",
    "print('변경된 yaml 파일 :')\n",
    "with open(data_yaml) as f:\n",
    "    film = yaml.load(f, Loader=yaml.FullLoader)\n",
    "    display(film)"
   ]
  },
  {
   "cell_type": "code",
   "execution_count": 12,
   "id": "9ab0aa1f-c3d1-446c-8cd8-1fcb4d360f5d",
   "metadata": {},
   "outputs": [
    {
     "name": "stdout",
     "output_type": "stream",
     "text": [
      "\u001b[34m\u001b[1mtrain: \u001b[0mweights=yolov5s.pt, cfg=, data=/home/jupyter/yolo/dog_eye/data.yaml, hyp=data/hyps/hyp.scratch-low.yaml, epochs=5, batch_size=4, imgsz=416, rect=False, resume=False, nosave=False, noval=False, noautoanchor=False, noplots=False, evolve=None, bucket=, cache=ram, image_weights=False, device=, multi_scale=False, single_cls=False, optimizer=SGD, sync_bn=False, workers=8, project=runs/train, name=exp, exist_ok=False, quad=False, cos_lr=False, label_smoothing=0.0, patience=100, freeze=[0], save_period=-1, seed=0, local_rank=-1, entity=None, upload_dataset=False, bbox_interval=-1, artifact_alias=latest\n",
      "\u001b[34m\u001b[1mgithub: \u001b[0m⚠️ YOLOv5 is out of date by 141 commits. Use `git pull` or `git clone https://github.com/ultralytics/yolov5` to update.\n",
      "YOLOv5 🚀 v7.0-72-g064365d Python-3.11.4 torch-2.0.1+cu117 CPU\n",
      "\n",
      "\u001b[34m\u001b[1mhyperparameters: \u001b[0mlr0=0.01, lrf=0.01, momentum=0.937, weight_decay=0.0005, warmup_epochs=3.0, warmup_momentum=0.8, warmup_bias_lr=0.1, box=0.05, cls=0.5, cls_pw=1.0, obj=1.0, obj_pw=1.0, iou_t=0.2, anchor_t=4.0, fl_gamma=0.0, hsv_h=0.015, hsv_s=0.7, hsv_v=0.4, degrees=0.0, translate=0.1, scale=0.5, shear=0.0, perspective=0.0, flipud=0.0, fliplr=0.5, mosaic=1.0, mixup=0.0, copy_paste=0.0\n",
      "\u001b[34m\u001b[1mClearML: \u001b[0mrun 'pip install clearml' to automatically track, visualize and remotely train YOLOv5 🚀 in ClearML\n",
      "\u001b[34m\u001b[1mComet: \u001b[0mrun 'pip install comet_ml' to automatically track and visualize YOLOv5 🚀 runs in Comet\n",
      "\u001b[34m\u001b[1mTensorBoard: \u001b[0mStart with 'tensorboard --logdir runs/train', view at http://localhost:6006/\n",
      "Overriding model.yaml nc=80 with nc=1\n",
      "\n",
      "                 from  n    params  module                                  arguments                     \n",
      "  0                -1  1      3520  models.common.Conv                      [3, 32, 6, 2, 2]              \n",
      "  1                -1  1     18560  models.common.Conv                      [32, 64, 3, 2]                \n",
      "  2                -1  1     18816  models.common.C3                        [64, 64, 1]                   \n",
      "  3                -1  1     73984  models.common.Conv                      [64, 128, 3, 2]               \n",
      "  4                -1  2    115712  models.common.C3                        [128, 128, 2]                 \n",
      "  5                -1  1    295424  models.common.Conv                      [128, 256, 3, 2]              \n",
      "  6                -1  3    625152  models.common.C3                        [256, 256, 3]                 \n",
      "  7                -1  1   1180672  models.common.Conv                      [256, 512, 3, 2]              \n",
      "  8                -1  1   1182720  models.common.C3                        [512, 512, 1]                 \n",
      "  9                -1  1    656896  models.common.SPPF                      [512, 512, 5]                 \n",
      " 10                -1  1    131584  models.common.Conv                      [512, 256, 1, 1]              \n",
      " 11                -1  1         0  torch.nn.modules.upsampling.Upsample    [None, 2, 'nearest']          \n",
      " 12           [-1, 6]  1         0  models.common.Concat                    [1]                           \n",
      " 13                -1  1    361984  models.common.C3                        [512, 256, 1, False]          \n",
      " 14                -1  1     33024  models.common.Conv                      [256, 128, 1, 1]              \n",
      " 15                -1  1         0  torch.nn.modules.upsampling.Upsample    [None, 2, 'nearest']          \n",
      " 16           [-1, 4]  1         0  models.common.Concat                    [1]                           \n",
      " 17                -1  1     90880  models.common.C3                        [256, 128, 1, False]          \n",
      " 18                -1  1    147712  models.common.Conv                      [128, 128, 3, 2]              \n",
      " 19          [-1, 14]  1         0  models.common.Concat                    [1]                           \n",
      " 20                -1  1    296448  models.common.C3                        [256, 256, 1, False]          \n",
      " 21                -1  1    590336  models.common.Conv                      [256, 256, 3, 2]              \n",
      " 22          [-1, 10]  1         0  models.common.Concat                    [1]                           \n",
      " 23                -1  1   1182720  models.common.C3                        [512, 512, 1, False]          \n",
      " 24      [17, 20, 23]  1     16182  models.yolo.Detect                      [1, [[10, 13, 16, 30, 33, 23], [30, 61, 62, 45, 59, 119], [116, 90, 156, 198, 373, 326]], [128, 256, 512]]\n",
      "Model summary: 214 layers, 7022326 parameters, 7022326 gradients, 15.9 GFLOPs\n",
      "\n",
      "Transferred 343/349 items from yolov5s.pt\n",
      "\u001b[34m\u001b[1moptimizer:\u001b[0m SGD(lr=0.01) with parameter groups 57 weight(decay=0.0), 60 weight(decay=0.0005), 60 bias\n",
      "\u001b[34m\u001b[1mtrain: \u001b[0mScanning /home/jupyter/yolo/dog_eye/train/labels.cache... 119 images, 0 b\u001b[0m\n",
      "\u001b[34m\u001b[1mtrain: \u001b[0mCaching images (0.1GB ram): 100%|██████████| 119/119 [00:00<00:00, 804.12\u001b[0m\n",
      "\u001b[34m\u001b[1mval: \u001b[0mScanning /home/jupyter/yolo/dog_eye/test/labels.cache... 39 images, 0 backg\u001b[0m\n",
      "\u001b[34m\u001b[1mval: \u001b[0mCaching images (0.0GB ram): 100%|██████████| 39/39 [00:00<00:00, 435.82it/s\u001b[0m\n",
      "\n",
      "\u001b[34m\u001b[1mAutoAnchor: \u001b[0m6.03 anchors/target, 1.000 Best Possible Recall (BPR). Current anchors are a good fit to dataset ✅\n",
      "Plotting labels to runs/train/exp5/labels.jpg... \n",
      "/opt/conda/lib/python3.11/site-packages/seaborn/_oldcore.py:1498: FutureWarning: is_categorical_dtype is deprecated and will be removed in a future version. Use isinstance(dtype, CategoricalDtype) instead\n",
      "  if pd.api.types.is_categorical_dtype(vector):\n",
      "/opt/conda/lib/python3.11/site-packages/seaborn/_oldcore.py:1498: FutureWarning: is_categorical_dtype is deprecated and will be removed in a future version. Use isinstance(dtype, CategoricalDtype) instead\n",
      "  if pd.api.types.is_categorical_dtype(vector):\n",
      "/opt/conda/lib/python3.11/site-packages/seaborn/_oldcore.py:1498: FutureWarning: is_categorical_dtype is deprecated and will be removed in a future version. Use isinstance(dtype, CategoricalDtype) instead\n",
      "  if pd.api.types.is_categorical_dtype(vector):\n",
      "/opt/conda/lib/python3.11/site-packages/seaborn/_oldcore.py:1498: FutureWarning: is_categorical_dtype is deprecated and will be removed in a future version. Use isinstance(dtype, CategoricalDtype) instead\n",
      "  if pd.api.types.is_categorical_dtype(vector):\n",
      "/opt/conda/lib/python3.11/site-packages/seaborn/_oldcore.py:1498: FutureWarning: is_categorical_dtype is deprecated and will be removed in a future version. Use isinstance(dtype, CategoricalDtype) instead\n",
      "  if pd.api.types.is_categorical_dtype(vector):\n",
      "/opt/conda/lib/python3.11/site-packages/seaborn/_oldcore.py:1119: FutureWarning: use_inf_as_na option is deprecated and will be removed in a future version. Convert inf values to NaN before operating instead.\n",
      "  with pd.option_context('mode.use_inf_as_na', True):\n",
      "/opt/conda/lib/python3.11/site-packages/seaborn/_oldcore.py:1498: FutureWarning: is_categorical_dtype is deprecated and will be removed in a future version. Use isinstance(dtype, CategoricalDtype) instead\n",
      "  if pd.api.types.is_categorical_dtype(vector):\n",
      "/opt/conda/lib/python3.11/site-packages/seaborn/_oldcore.py:1119: FutureWarning: use_inf_as_na option is deprecated and will be removed in a future version. Convert inf values to NaN before operating instead.\n",
      "  with pd.option_context('mode.use_inf_as_na', True):\n",
      "/opt/conda/lib/python3.11/site-packages/seaborn/_oldcore.py:1498: FutureWarning: is_categorical_dtype is deprecated and will be removed in a future version. Use isinstance(dtype, CategoricalDtype) instead\n",
      "  if pd.api.types.is_categorical_dtype(vector):\n",
      "/opt/conda/lib/python3.11/site-packages/seaborn/_oldcore.py:1119: FutureWarning: use_inf_as_na option is deprecated and will be removed in a future version. Convert inf values to NaN before operating instead.\n",
      "  with pd.option_context('mode.use_inf_as_na', True):\n",
      "/opt/conda/lib/python3.11/site-packages/seaborn/_oldcore.py:1498: FutureWarning: is_categorical_dtype is deprecated and will be removed in a future version. Use isinstance(dtype, CategoricalDtype) instead\n",
      "  if pd.api.types.is_categorical_dtype(vector):\n",
      "/opt/conda/lib/python3.11/site-packages/seaborn/_oldcore.py:1119: FutureWarning: use_inf_as_na option is deprecated and will be removed in a future version. Convert inf values to NaN before operating instead.\n",
      "  with pd.option_context('mode.use_inf_as_na', True):\n",
      "/opt/conda/lib/python3.11/site-packages/seaborn/_oldcore.py:1498: FutureWarning: is_categorical_dtype is deprecated and will be removed in a future version. Use isinstance(dtype, CategoricalDtype) instead\n",
      "  if pd.api.types.is_categorical_dtype(vector):\n",
      "/opt/conda/lib/python3.11/site-packages/seaborn/_oldcore.py:1498: FutureWarning: is_categorical_dtype is deprecated and will be removed in a future version. Use isinstance(dtype, CategoricalDtype) instead\n",
      "  if pd.api.types.is_categorical_dtype(vector):\n",
      "/opt/conda/lib/python3.11/site-packages/seaborn/_oldcore.py:1119: FutureWarning: use_inf_as_na option is deprecated and will be removed in a future version. Convert inf values to NaN before operating instead.\n",
      "  with pd.option_context('mode.use_inf_as_na', True):\n",
      "/opt/conda/lib/python3.11/site-packages/seaborn/_oldcore.py:1119: FutureWarning: use_inf_as_na option is deprecated and will be removed in a future version. Convert inf values to NaN before operating instead.\n",
      "  with pd.option_context('mode.use_inf_as_na', True):\n",
      "/opt/conda/lib/python3.11/site-packages/seaborn/_oldcore.py:1498: FutureWarning: is_categorical_dtype is deprecated and will be removed in a future version. Use isinstance(dtype, CategoricalDtype) instead\n",
      "  if pd.api.types.is_categorical_dtype(vector):\n",
      "/opt/conda/lib/python3.11/site-packages/seaborn/_oldcore.py:1498: FutureWarning: is_categorical_dtype is deprecated and will be removed in a future version. Use isinstance(dtype, CategoricalDtype) instead\n",
      "  if pd.api.types.is_categorical_dtype(vector):\n",
      "/opt/conda/lib/python3.11/site-packages/seaborn/_oldcore.py:1119: FutureWarning: use_inf_as_na option is deprecated and will be removed in a future version. Convert inf values to NaN before operating instead.\n",
      "  with pd.option_context('mode.use_inf_as_na', True):\n",
      "/opt/conda/lib/python3.11/site-packages/seaborn/_oldcore.py:1119: FutureWarning: use_inf_as_na option is deprecated and will be removed in a future version. Convert inf values to NaN before operating instead.\n",
      "  with pd.option_context('mode.use_inf_as_na', True):\n",
      "/opt/conda/lib/python3.11/site-packages/seaborn/_oldcore.py:1498: FutureWarning: is_categorical_dtype is deprecated and will be removed in a future version. Use isinstance(dtype, CategoricalDtype) instead\n",
      "  if pd.api.types.is_categorical_dtype(vector):\n",
      "/opt/conda/lib/python3.11/site-packages/seaborn/_oldcore.py:1498: FutureWarning: is_categorical_dtype is deprecated and will be removed in a future version. Use isinstance(dtype, CategoricalDtype) instead\n",
      "  if pd.api.types.is_categorical_dtype(vector):\n",
      "/opt/conda/lib/python3.11/site-packages/seaborn/_oldcore.py:1119: FutureWarning: use_inf_as_na option is deprecated and will be removed in a future version. Convert inf values to NaN before operating instead.\n",
      "  with pd.option_context('mode.use_inf_as_na', True):\n",
      "/opt/conda/lib/python3.11/site-packages/seaborn/_oldcore.py:1119: FutureWarning: use_inf_as_na option is deprecated and will be removed in a future version. Convert inf values to NaN before operating instead.\n",
      "  with pd.option_context('mode.use_inf_as_na', True):\n",
      "/opt/conda/lib/python3.11/site-packages/seaborn/_oldcore.py:1498: FutureWarning: is_categorical_dtype is deprecated and will be removed in a future version. Use isinstance(dtype, CategoricalDtype) instead\n",
      "  if pd.api.types.is_categorical_dtype(vector):\n",
      "/opt/conda/lib/python3.11/site-packages/seaborn/_oldcore.py:1498: FutureWarning: is_categorical_dtype is deprecated and will be removed in a future version. Use isinstance(dtype, CategoricalDtype) instead\n",
      "  if pd.api.types.is_categorical_dtype(vector):\n",
      "/opt/conda/lib/python3.11/site-packages/seaborn/_oldcore.py:1119: FutureWarning: use_inf_as_na option is deprecated and will be removed in a future version. Convert inf values to NaN before operating instead.\n",
      "  with pd.option_context('mode.use_inf_as_na', True):\n",
      "/opt/conda/lib/python3.11/site-packages/seaborn/_oldcore.py:1119: FutureWarning: use_inf_as_na option is deprecated and will be removed in a future version. Convert inf values to NaN before operating instead.\n",
      "  with pd.option_context('mode.use_inf_as_na', True):\n",
      "/opt/conda/lib/python3.11/site-packages/seaborn/_oldcore.py:1498: FutureWarning: is_categorical_dtype is deprecated and will be removed in a future version. Use isinstance(dtype, CategoricalDtype) instead\n",
      "  if pd.api.types.is_categorical_dtype(vector):\n",
      "/opt/conda/lib/python3.11/site-packages/seaborn/_oldcore.py:1498: FutureWarning: is_categorical_dtype is deprecated and will be removed in a future version. Use isinstance(dtype, CategoricalDtype) instead\n",
      "  if pd.api.types.is_categorical_dtype(vector):\n",
      "/opt/conda/lib/python3.11/site-packages/seaborn/_oldcore.py:1119: FutureWarning: use_inf_as_na option is deprecated and will be removed in a future version. Convert inf values to NaN before operating instead.\n",
      "  with pd.option_context('mode.use_inf_as_na', True):\n",
      "/opt/conda/lib/python3.11/site-packages/seaborn/_oldcore.py:1119: FutureWarning: use_inf_as_na option is deprecated and will be removed in a future version. Convert inf values to NaN before operating instead.\n",
      "  with pd.option_context('mode.use_inf_as_na', True):\n",
      "/opt/conda/lib/python3.11/site-packages/seaborn/_oldcore.py:1498: FutureWarning: is_categorical_dtype is deprecated and will be removed in a future version. Use isinstance(dtype, CategoricalDtype) instead\n",
      "  if pd.api.types.is_categorical_dtype(vector):\n",
      "/opt/conda/lib/python3.11/site-packages/seaborn/_oldcore.py:1498: FutureWarning: is_categorical_dtype is deprecated and will be removed in a future version. Use isinstance(dtype, CategoricalDtype) instead\n",
      "  if pd.api.types.is_categorical_dtype(vector):\n",
      "/opt/conda/lib/python3.11/site-packages/seaborn/_oldcore.py:1119: FutureWarning: use_inf_as_na option is deprecated and will be removed in a future version. Convert inf values to NaN before operating instead.\n",
      "  with pd.option_context('mode.use_inf_as_na', True):\n",
      "/opt/conda/lib/python3.11/site-packages/seaborn/_oldcore.py:1119: FutureWarning: use_inf_as_na option is deprecated and will be removed in a future version. Convert inf values to NaN before operating instead.\n",
      "  with pd.option_context('mode.use_inf_as_na', True):\n",
      "/opt/conda/lib/python3.11/site-packages/seaborn/_oldcore.py:1498: FutureWarning: is_categorical_dtype is deprecated and will be removed in a future version. Use isinstance(dtype, CategoricalDtype) instead\n",
      "  if pd.api.types.is_categorical_dtype(vector):\n",
      "/opt/conda/lib/python3.11/site-packages/seaborn/_oldcore.py:1498: FutureWarning: is_categorical_dtype is deprecated and will be removed in a future version. Use isinstance(dtype, CategoricalDtype) instead\n",
      "  if pd.api.types.is_categorical_dtype(vector):\n",
      "/opt/conda/lib/python3.11/site-packages/seaborn/_oldcore.py:1119: FutureWarning: use_inf_as_na option is deprecated and will be removed in a future version. Convert inf values to NaN before operating instead.\n",
      "  with pd.option_context('mode.use_inf_as_na', True):\n",
      "/opt/conda/lib/python3.11/site-packages/seaborn/_oldcore.py:1119: FutureWarning: use_inf_as_na option is deprecated and will be removed in a future version. Convert inf values to NaN before operating instead.\n",
      "  with pd.option_context('mode.use_inf_as_na', True):\n",
      "/opt/conda/lib/python3.11/site-packages/seaborn/_oldcore.py:1498: FutureWarning: is_categorical_dtype is deprecated and will be removed in a future version. Use isinstance(dtype, CategoricalDtype) instead\n",
      "  if pd.api.types.is_categorical_dtype(vector):\n",
      "/opt/conda/lib/python3.11/site-packages/seaborn/_oldcore.py:1498: FutureWarning: is_categorical_dtype is deprecated and will be removed in a future version. Use isinstance(dtype, CategoricalDtype) instead\n",
      "  if pd.api.types.is_categorical_dtype(vector):\n",
      "/opt/conda/lib/python3.11/site-packages/seaborn/_oldcore.py:1119: FutureWarning: use_inf_as_na option is deprecated and will be removed in a future version. Convert inf values to NaN before operating instead.\n",
      "  with pd.option_context('mode.use_inf_as_na', True):\n",
      "/opt/conda/lib/python3.11/site-packages/seaborn/_oldcore.py:1119: FutureWarning: use_inf_as_na option is deprecated and will be removed in a future version. Convert inf values to NaN before operating instead.\n",
      "  with pd.option_context('mode.use_inf_as_na', True):\n",
      "Image sizes 416 train, 416 val\n",
      "Using 4 dataloader workers\n",
      "Logging results to \u001b[1mruns/train/exp5\u001b[0m\n",
      "Starting training for 5 epochs...\n",
      "\n",
      "      Epoch    GPU_mem   box_loss   obj_loss   cls_loss  Instances       Size\n",
      "        0/4         0G     0.1232    0.02048          0         12        416: 1\n",
      "                 Class     Images  Instances          P          R      mAP50   \n",
      "                   all         39         75   0.000427     0.0667   0.000254   4.06e-05\n",
      "\n",
      "      Epoch    GPU_mem   box_loss   obj_loss   cls_loss  Instances       Size\n",
      "        1/4         0G     0.1092    0.02278          0          6        416: 1\n",
      "                 Class     Images  Instances          P          R      mAP50   \n",
      "                   all         39         75    0.00236      0.107    0.00207   0.000499\n",
      "\n",
      "      Epoch    GPU_mem   box_loss   obj_loss   cls_loss  Instances       Size\n",
      "        2/4         0G      0.102    0.02507          0          6        416: 1\n",
      "                 Class     Images  Instances          P          R      mAP50   \n",
      "                   all         39         75     0.0415     0.0667     0.0117    0.00313\n",
      "\n",
      "      Epoch    GPU_mem   box_loss   obj_loss   cls_loss  Instances       Size\n",
      "        3/4         0G    0.09444    0.02372          0          5        416: 1\n",
      "                 Class     Images  Instances          P          R      mAP50   \n",
      "                   all         39         75    0.00762        0.4     0.0182    0.00383\n",
      "\n",
      "      Epoch    GPU_mem   box_loss   obj_loss   cls_loss  Instances       Size\n",
      "        4/4         0G    0.09077    0.02679          0          6        416: 1\n",
      "                 Class     Images  Instances          P          R      mAP50   \n",
      "                   all         39         75     0.0414       0.32     0.0324    0.00801\n",
      "\n",
      "5 epochs completed in 0.025 hours.\n",
      "Optimizer stripped from runs/train/exp5/weights/last.pt, 14.3MB\n",
      "Optimizer stripped from runs/train/exp5/weights/best.pt, 14.3MB\n",
      "\n",
      "Validating runs/train/exp5/weights/best.pt...\n",
      "Fusing layers... \n",
      "Model summary: 157 layers, 7012822 parameters, 0 gradients, 15.8 GFLOPs\n",
      "                 Class     Images  Instances          P          R      mAP50   \n",
      "                   all         39         75       0.04      0.307     0.0324    0.00809\n",
      "Results saved to \u001b[1mruns/train/exp5\u001b[0m\n"
     ]
    }
   ],
   "source": [
    "!python train.py --img 416 --batch 4 --epochs 5 --data {data_yaml} --weights yolov5s.pt --cache"
   ]
  },
  {
   "cell_type": "code",
   "execution_count": 8,
   "id": "bd6e235c-7a29-4217-b01c-6af25ca11989",
   "metadata": {},
   "outputs": [],
   "source": [
    "# 테스트 이미지 경로\n",
    "test_data_dir = film['val']\n",
    "\n",
    "# 실험 번호 지정 - 진행한 실험이 저장된 경로 확인해서 기입! - runs/train/exp1 인지 exp2, exp3 인지 확인 후 아래 번호 지정\n",
    "train_exp_num = 14"
   ]
  },
  {
   "cell_type": "code",
   "execution_count": 13,
   "id": "23fd4885-6774-487c-84b8-70fe2cf3e7eb",
   "metadata": {},
   "outputs": [
    {
     "name": "stdout",
     "output_type": "stream",
     "text": [
      "\u001b[34m\u001b[1mdetect: \u001b[0mweights=['runs/train/exp5/weights/best.pt'], source=/home/jupyter/yolo/dog_eye/test/images, data=data/coco128.yaml, imgsz=[416, 416], conf_thres=0.1, iou_thres=0.45, max_det=1000, device=, view_img=False, save_txt=False, save_conf=False, save_crop=False, nosave=False, classes=None, agnostic_nms=False, augment=False, visualize=False, update=False, project=runs/detect, name=exp, exist_ok=False, line_thickness=3, hide_labels=False, hide_conf=False, half=False, dnn=False, vid_stride=1\n",
      "YOLOv5 🚀 v7.0-72-g064365d Python-3.11.4 torch-2.0.1+cu117 CPU\n",
      "\n",
      "Fusing layers... \n",
      "Model summary: 157 layers, 7012822 parameters, 0 gradients, 15.8 GFLOPs\n",
      "image 1/39 /home/jupyter/yolo/dog_eye/test/images/dog_face_cataract_100_jpg.rf.d0b9061b3a3588dd93ba9d6b10f63ad5.jpg: 416x416 (no detections), 45.2ms\n",
      "image 2/39 /home/jupyter/yolo/dog_eye/test/images/dog_face_cataract_105_jpg.rf.17011f62d15b740f5ec95f3d1dfdad8d.jpg: 416x416 (no detections), 31.4ms\n",
      "image 3/39 /home/jupyter/yolo/dog_eye/test/images/dog_face_cataract_10_jpg.rf.64113835081f677911e354a8cccbddf6.jpg: 416x416 1 eye, 40.1ms\n",
      "image 4/39 /home/jupyter/yolo/dog_eye/test/images/dog_face_cataract_17_jpg.rf.79cbecefea0dc6e52e78829f15f54eda.jpg: 416x416 (no detections), 39.0ms\n",
      "image 5/39 /home/jupyter/yolo/dog_eye/test/images/dog_face_cataract_19_jpg.rf.cc3327b091611ff255ae71034eb5f5cf.jpg: 416x416 (no detections), 38.2ms\n",
      "image 6/39 /home/jupyter/yolo/dog_eye/test/images/dog_face_cataract_22_jpg.rf.ad71bab14320756f6f5c9321fd3b8877.jpg: 416x416 (no detections), 38.6ms\n",
      "image 7/39 /home/jupyter/yolo/dog_eye/test/images/dog_face_cataract_34_jpg.rf.1b2c665af6b8b088ba293baeb541d3bd.jpg: 416x416 (no detections), 34.3ms\n",
      "image 8/39 /home/jupyter/yolo/dog_eye/test/images/dog_face_cataract_3_jpg.rf.72275edda70e6cbb8b00aff3c0e83a50.jpg: 416x416 (no detections), 37.6ms\n",
      "image 9/39 /home/jupyter/yolo/dog_eye/test/images/dog_face_cataract_45_jpg.rf.439246d272ff6b048b769989e8f613ac.jpg: 416x416 (no detections), 39.1ms\n",
      "image 10/39 /home/jupyter/yolo/dog_eye/test/images/dog_face_cataract_51_jpg.rf.67bff02ce5ca48827cfda52135c1c6d3.jpg: 416x416 (no detections), 39.4ms\n",
      "image 11/39 /home/jupyter/yolo/dog_eye/test/images/dog_face_cataract_76_jpg.rf.58c179f1d6721a70e8846fc4c4f204c2.jpg: 416x416 (no detections), 36.8ms\n",
      "image 12/39 /home/jupyter/yolo/dog_eye/test/images/dog_face_cataract_86_jpg.rf.3ccc6523e418da3337443f11a5d77d1d.jpg: 416x416 (no detections), 40.3ms\n",
      "image 13/39 /home/jupyter/yolo/dog_eye/test/images/dog_face_cataract_8_jpg.rf.0f94f426f12c57ad6157752355f77ae7.jpg: 416x416 (no detections), 38.0ms\n",
      "image 14/39 /home/jupyter/yolo/dog_eye/test/images/dog_face_cataract_90_jpg.rf.fdf289c531187620cf4d8c8a297d6f9b.jpg: 416x416 (no detections), 37.1ms\n",
      "image 15/39 /home/jupyter/yolo/dog_eye/test/images/dog_face_cataract_98_jpg.rf.f819eaba25452747561d66b1a4af415e.jpg: 416x416 (no detections), 33.9ms\n",
      "image 16/39 /home/jupyter/yolo/dog_eye/test/images/dog_face_cataract_9_jpg.rf.749da0faaa5fb2df384703cee8deb76b.jpg: 416x416 (no detections), 38.8ms\n",
      "image 17/39 /home/jupyter/yolo/dog_eye/test/images/dog_face_normal_17_jpg.rf.32ac881bdda2293721562dea029d62a6.jpg: 416x416 (no detections), 36.1ms\n",
      "image 18/39 /home/jupyter/yolo/dog_eye/test/images/dog_face_normal_20_jpg.rf.1ced730d4b7358400966065a9734ca1e.jpg: 416x416 (no detections), 42.8ms\n",
      "image 19/39 /home/jupyter/yolo/dog_eye/test/images/dog_face_normal_29_jpg.rf.5ad83403c2f5e713ae8e8141f9733f6e.jpg: 416x416 (no detections), 39.6ms\n",
      "image 20/39 /home/jupyter/yolo/dog_eye/test/images/dog_face_normal_32_jpg.rf.02e763a975938c2a2d88f55170ae42ef.jpg: 416x416 (no detections), 38.7ms\n",
      "image 21/39 /home/jupyter/yolo/dog_eye/test/images/dog_face_normal_39_jpg.rf.61893d15da703b11d04a92f72d2383b2.jpg: 416x416 (no detections), 39.9ms\n",
      "image 22/39 /home/jupyter/yolo/dog_eye/test/images/dog_face_normal_41_jpg.rf.9e0913548005b2385f149912ad20195c.jpg: 416x416 (no detections), 38.1ms\n",
      "image 23/39 /home/jupyter/yolo/dog_eye/test/images/dog_face_normal_42_jpg.rf.bd54a1e0629f7025cdf7118745f31773.jpg: 416x416 (no detections), 39.3ms\n",
      "image 24/39 /home/jupyter/yolo/dog_eye/test/images/dog_face_normal_44_jpg.rf.e335b4bc47387c5d2aec0b8c255b5567.jpg: 416x416 (no detections), 39.4ms\n",
      "image 25/39 /home/jupyter/yolo/dog_eye/test/images/dog_face_normal_47_jpg.rf.815df6f47643a7c4b4b5d648efc1be27.jpg: 416x416 (no detections), 38.7ms\n",
      "image 26/39 /home/jupyter/yolo/dog_eye/test/images/dog_face_normal_4_jpg.rf.834f8dc0ae83a7916653e06e28273fee.jpg: 416x416 (no detections), 37.7ms\n",
      "image 27/39 /home/jupyter/yolo/dog_eye/test/images/dog_face_normal_56_jpg.rf.65e4b1b720e1467e9a221bc0cba47295.jpg: 416x416 (no detections), 35.3ms\n",
      "image 28/39 /home/jupyter/yolo/dog_eye/test/images/dog_face_normal_58_jpg.rf.aaed9c8238215645de9c7392f427e366.jpg: 416x416 (no detections), 40.3ms\n",
      "image 29/39 /home/jupyter/yolo/dog_eye/test/images/dog_face_normal_5_jpg.rf.e95330ffccb5c906611230462d566a1f.jpg: 416x416 (no detections), 37.9ms\n",
      "image 30/39 /home/jupyter/yolo/dog_eye/test/images/dog_face_normal_61_jpg.rf.18cab28e765a421e78cd4ce3d89d1a43.jpg: 416x416 (no detections), 36.1ms\n",
      "image 31/39 /home/jupyter/yolo/dog_eye/test/images/dog_face_normal_70_jpg.rf.68bd17856b11f2ea476b095e6442e531.jpg: 416x416 (no detections), 32.3ms\n",
      "image 32/39 /home/jupyter/yolo/dog_eye/test/images/dog_face_normal_73_jpg.rf.84adaea22a806520ea3b33d2b3a88963.jpg: 416x416 (no detections), 39.1ms\n",
      "image 33/39 /home/jupyter/yolo/dog_eye/test/images/dog_face_normal_75_jpg.rf.7420ad5941ed7bb502ff37a21d0e8514.jpg: 416x416 (no detections), 32.4ms\n",
      "image 34/39 /home/jupyter/yolo/dog_eye/test/images/dog_face_normal_77_jpg.rf.3b24398e8a0a6b0972d2739747727e71.jpg: 416x416 (no detections), 42.0ms\n",
      "image 35/39 /home/jupyter/yolo/dog_eye/test/images/dog_face_normal_7_jpg.rf.9aa361f43e3ef7dcebea3ebccbfabc70.jpg: 416x416 (no detections), 33.4ms\n",
      "image 36/39 /home/jupyter/yolo/dog_eye/test/images/dog_face_normal_82_jpg.rf.4c1aa9b7728240965a441ec373b7b267.jpg: 416x416 (no detections), 36.0ms\n",
      "image 37/39 /home/jupyter/yolo/dog_eye/test/images/dog_face_normal_83_jpg.rf.6fbf89524aea19611c5bb4fa82179926.jpg: 416x416 (no detections), 37.3ms\n",
      "image 38/39 /home/jupyter/yolo/dog_eye/test/images/dog_face_normal_94_jpg.rf.64dd3ea2a701991e7e64be745d1ad69d.jpg: 416x416 (no detections), 38.5ms\n",
      "image 39/39 /home/jupyter/yolo/dog_eye/test/images/dog_face_normal_9_jpg.rf.3d4ed4946a62521c9a972198e85ff1b8.jpg: 416x416 (no detections), 34.9ms\n",
      "Speed: 0.5ms pre-process, 37.8ms inference, 0.2ms NMS per image at shape (1, 3, 416, 416)\n",
      "Results saved to \u001b[1mruns/detect/exp2\u001b[0m\n"
     ]
    }
   ],
   "source": [
    "!python detect.py --weights runs/train/exp5/weights/best.pt --img 416 --conf 0.1 --source {test_data_dir}"
   ]
  },
  {
   "cell_type": "code",
   "execution_count": 11,
   "id": "4715826f-3879-41b4-a127-c0f81f5412bf",
   "metadata": {},
   "outputs": [
    {
     "ename": "Exception",
     "evalue": "test_exp_num 을 다시 확인하세요.",
     "output_type": "error",
     "traceback": [
      "\u001b[0;31m---------------------------------------------------------------------------\u001b[0m",
      "\u001b[0;31mException\u001b[0m                                 Traceback (most recent call last)",
      "Cell \u001b[0;32mIn[11], line 9\u001b[0m\n\u001b[1;32m      6\u001b[0m test_exp_num \u001b[38;5;241m=\u001b[39m \u001b[38;5;241m4\u001b[39m\n\u001b[1;32m      8\u001b[0m \u001b[38;5;28;01mif\u001b[39;00m \u001b[38;5;129;01mnot\u001b[39;00m os\u001b[38;5;241m.\u001b[39mpath\u001b[38;5;241m.\u001b[39mexists(\u001b[38;5;124m'\u001b[39m\u001b[38;5;124m/home/jupyter/yolo/yolov5/runs/detect/exp\u001b[39m\u001b[38;5;124m'\u001b[39m \u001b[38;5;241m+\u001b[39m \u001b[38;5;28mstr\u001b[39m(test_exp_num) \u001b[38;5;241m+\u001b[39m \u001b[38;5;124m'\u001b[39m\u001b[38;5;124m/\u001b[39m\u001b[38;5;124m'\u001b[39m) :\n\u001b[0;32m----> 9\u001b[0m   \u001b[38;5;28;01mraise\u001b[39;00m \u001b[38;5;167;01mException\u001b[39;00m(\u001b[38;5;124m'\u001b[39m\u001b[38;5;124mtest_exp_num 을 다시 확인하세요.\u001b[39m\u001b[38;5;124m'\u001b[39m)\n\u001b[1;32m     11\u001b[0m \u001b[38;5;28;01mfor\u001b[39;00m imageName \u001b[38;5;129;01min\u001b[39;00m glob\u001b[38;5;241m.\u001b[39mglob(\u001b[38;5;124m'\u001b[39m\u001b[38;5;124m/home/jupyter/yolo/yolov5/runs/detect/exp\u001b[39m\u001b[38;5;124m'\u001b[39m \u001b[38;5;241m+\u001b[39m \u001b[38;5;28mstr\u001b[39m(test_exp_num) \u001b[38;5;241m+\u001b[39m \u001b[38;5;124m'\u001b[39m\u001b[38;5;124m/*.jpg\u001b[39m\u001b[38;5;124m'\u001b[39m): \u001b[38;5;66;03m#assuming JPG\u001b[39;00m\n\u001b[1;32m     12\u001b[0m     display(Image(filename\u001b[38;5;241m=\u001b[39mimageName))\n",
      "\u001b[0;31mException\u001b[0m: test_exp_num 을 다시 확인하세요."
     ]
    }
   ],
   "source": [
    "# 테스트 결과 확인해보기\n",
    "import os\n",
    "import glob\n",
    "from IPython.display import Image, display\n",
    "\n",
    "test_exp_num = 4\n",
    "\n",
    "if not os.path.exists('/home/jupyter/yolo/yolov5/runs/detect/exp' + str(test_exp_num) + '/') :\n",
    "  raise Exception('test_exp_num 을 다시 확인하세요.')\n",
    "\n",
    "for imageName in glob.glob('/home/jupyter/yolo/yolov5/runs/detect/exp' + str(test_exp_num) + '/*.jpg'): #assuming JPG\n",
    "    display(Image(filename=imageName))\n",
    "    print(\"\\n\")"
   ]
  }
 ],
 "metadata": {
  "kernelspec": {
   "display_name": "Python 3 (ipykernel)",
   "language": "python",
   "name": "python3"
  },
  "language_info": {
   "codemirror_mode": {
    "name": "ipython",
    "version": 3
   },
   "file_extension": ".py",
   "mimetype": "text/x-python",
   "name": "python",
   "nbconvert_exporter": "python",
   "pygments_lexer": "ipython3",
   "version": "3.11.4"
  },
  "varInspector": {
   "cols": {
    "lenName": 16,
    "lenType": 16,
    "lenVar": 40
   },
   "kernels_config": {
    "python": {
     "delete_cmd_postfix": "",
     "delete_cmd_prefix": "del ",
     "library": "var_list.py",
     "varRefreshCmd": "print(var_dic_list())"
    },
    "r": {
     "delete_cmd_postfix": ") ",
     "delete_cmd_prefix": "rm(",
     "library": "var_list.r",
     "varRefreshCmd": "cat(var_dic_list()) "
    }
   },
   "types_to_exclude": [
    "module",
    "function",
    "builtin_function_or_method",
    "instance",
    "_Feature"
   ],
   "window_display": false
  }
 },
 "nbformat": 4,
 "nbformat_minor": 5
}
